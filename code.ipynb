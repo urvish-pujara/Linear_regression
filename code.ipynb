{
  "cells": [
    {
      "cell_type": "markdown",
      "id": "59a734ca",
      "metadata": {},
      "source": [
        "Importing required libraries"
      ]
    },
    {
      "cell_type": "code",
      "execution_count": 75,
      "id": "34146e3f",
      "metadata": {},
      "outputs": [],
      "source": [
        "import pickle\n",
        "import random\n",
        "import matplotlib.pyplot as plt\n",
        "import tabulate\n",
        "import numpy\n",
        "import sklearn.preprocessing\n",
        "import sklearn.linear_model"
      ]
    },
    {
      "cell_type": "markdown",
      "id": "fb799fd0",
      "metadata": {},
      "source": [
        "Loading data from train and test files"
      ]
    },
    {
      "cell_type": "code",
      "execution_count": 76,
      "id": "narrative-hartford",
      "metadata": {
        "id": "narrative-hartford",
        "scrolled": true
      },
      "outputs": [],
      "source": [
        "with open('./data/test.pkl','rb') as test_data_file:\n",
        "    test = pickle.load(test_data_file)\n",
        "with open('./data/train.pkl','rb') as train_data_file:\n",
        "    train = pickle.load(train_data_file)"
      ]
    },
    {
      "cell_type": "markdown",
      "id": "f6a3c1c5",
      "metadata": {},
      "source": [
        "Declaring list variables to store the data"
      ]
    },
    {
      "cell_type": "code",
      "execution_count": 77,
      "id": "b7101146",
      "metadata": {},
      "outputs": [],
      "source": [
        "bias_list = []\n",
        "bias_square_list = []\n",
        "mse_list = []\n",
        "err_list = []\n",
        "var_list = []"
      ]
    },
    {
      "cell_type": "markdown",
      "id": "3b0b00d3",
      "metadata": {},
      "source": [
        "Shuffling fetched data and splitting into 16 datasets"
      ]
    },
    {
      "cell_type": "code",
      "execution_count": 78,
      "id": "19e109b3",
      "metadata": {},
      "outputs": [],
      "source": [
        "random.shuffle(train)\n",
        "m= numpy.array_split(train,16)"
      ]
    },
    {
      "cell_type": "markdown",
      "id": "c134285c",
      "metadata": {},
      "source": [
        "Caluclating the bias, variance, error and mse for each polynomial degree after finding the predicted values for each model"
      ]
    },
    {
      "cell_type": "code",
      "execution_count": 79,
      "id": "506f6fae",
      "metadata": {},
      "outputs": [],
      "source": [
        "for i in range(1,16,1):\n",
        "  predicted_values_list = []\n",
        "  polynomial = sklearn.preprocessing.PolynomialFeatures(i)\n",
        "\n",
        "  for j in range(16):\n",
        "    inp_train, y_train = numpy.hsplit(m[j],2)\n",
        "    inp_test, y_test = numpy.hsplit(test,2)\n",
        "    deg_test = polynomial.fit_transform(inp_test)\n",
        "    reg = sklearn.linear_model.LinearRegression().fit(polynomial.fit_transform(inp_train), y_train)\n",
        "    predicted_values_list.append(reg.predict(deg_test))\n",
        "\n",
        "  bias = abs(numpy.mean(predicted_values_list, axis = 0) - y_test)\n",
        "  bias_avg = numpy.mean(bias)\n",
        "  bias_square_avg = numpy.mean(numpy.square(numpy.mean(predicted_values_list, axis = 0) - y_test))  \n",
        "\n",
        "  variance = numpy.var(predicted_values_list, axis = 0)\n",
        "  variance_avg = numpy.mean(variance)\n",
        "  \n",
        "  mse = numpy.mean((numpy.square(predicted_values_list - y_test)), axis=0)\n",
        "  mse_avg = numpy.mean(mse)  \n",
        "\n",
        "  error = mse_avg - (bias_square_avg + variance_avg)\n",
        "  error_avg = numpy.mean(error)\n",
        "\n",
        "  bias_list.append(bias_avg) \n",
        "  bias_square_list.append(bias_square_avg)\n",
        "  \n",
        "  var_list.append(variance_avg)\n",
        "  mse_list.append(mse_avg)\n",
        "  err_list.append(error_avg)"
      ]
    },
    {
      "cell_type": "markdown",
      "id": "30e49fe3",
      "metadata": {},
      "source": [
        "Printing Bias, Bias Square, Variance, Irreducible Error and MSE for each model."
      ]
    },
    {
      "cell_type": "code",
      "execution_count": null,
      "id": "8bfd766f",
      "metadata": {},
      "outputs": [],
      "source": [
        "print(\"Bias:\")\n",
        "print(bias_list)\n",
        "print()\n",
        "print(\"Bias Square:\")\n",
        "print(bias_square_list)\n",
        "print()\n",
        "print(\"Variance:\")\n",
        "print(var_list)\n",
        "print()\n",
        "print(\"Mean Square Error or Total Error:\")\n",
        "print(mse_list)\n",
        "print()\n",
        "print(\"Irreducible Error:\")\n",
        "print(err_list)"
      ]
    },
    {
      "cell_type": "markdown",
      "id": "195430db",
      "metadata": {},
      "source": [
        "Tabulating the data"
      ]
    },
    {
      "cell_type": "code",
      "execution_count": null,
      "id": "829cbd11",
      "metadata": {},
      "outputs": [],
      "source": [
        "index_for_deg = []\n",
        "for i in range(0,15):\n",
        "    index_for_deg.append(i+1)\n",
        "\n",
        "table = numpy.array([index_for_deg, bias_list, bias_square_list, var_list, mse_list, err_list])\n",
        "print(tabulate.tabulate(table.T, headers=[\"Degree\", \"Bias\", \"Bias square\", \"Variance\", \"Mean Square Error\", \"Irreducible Error\"]))"
      ]
    },
    {
      "cell_type": "markdown",
      "id": "69ffde2b",
      "metadata": {},
      "source": [
        "Plotting Bias<sup>2</sup>  vs Variance Graph"
      ]
    },
    {
      "cell_type": "code",
      "execution_count": null,
      "id": "29eb00dc",
      "metadata": {},
      "outputs": [],
      "source": [
        "f1 = plt.figure(1)\n",
        "plt.title('Graph')\n",
        "plt.xlabel('Model Complexity')\n",
        "plt.ylabel('Error')\n",
        "plt.plot(range(1,16),bias_square_list ,'blue', label = 'bias_square')\n",
        "plt.plot(range(1,16),var_list , 'red', label='variance')\n",
        "plt.plot(range(1,16),mse_list ,'green' , label = 'Error')\n",
        "plt.legend()\n",
        "plt.show()"
      ]
    }
  ],
  "metadata": {
    "colab": {
      "name": "code (1).ipynb",
      "provenance": []
    },
    "kernelspec": {
      "display_name": "Python 3",
      "language": "python",
      "name": "python3"
    },
    "language_info": {
      "codemirror_mode": {
        "name": "ipython",
        "version": 3
      },
      "file_extension": ".py",
      "mimetype": "text/x-python",
      "name": "python",
      "nbconvert_exporter": "python",
      "pygments_lexer": "ipython3",
      "version": "3.8.10"
    }
  },
  "nbformat": 4,
  "nbformat_minor": 5
}
